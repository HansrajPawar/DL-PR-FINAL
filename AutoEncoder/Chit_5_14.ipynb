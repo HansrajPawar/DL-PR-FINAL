{
 "cells": [
  {
   "cell_type": "code",
   "execution_count": 2,
   "id": "24050f30",
   "metadata": {},
   "outputs": [
    {
     "ename": "ModuleNotFoundError",
     "evalue": "No module named 'pandas'",
     "output_type": "error",
     "traceback": [
      "\u001b[1;31m---------------------------------------------------------------------------\u001b[0m",
      "\u001b[1;31mModuleNotFoundError\u001b[0m                       Traceback (most recent call last)",
      "Cell \u001b[1;32mIn[2], line 1\u001b[0m\n\u001b[1;32m----> 1\u001b[0m \u001b[38;5;28;01mimport\u001b[39;00m \u001b[38;5;21;01mpandas\u001b[39;00m \u001b[38;5;28;01mas\u001b[39;00m \u001b[38;5;21;01mpd\u001b[39;00m \n\u001b[0;32m      2\u001b[0m \u001b[38;5;28;01mimport\u001b[39;00m \u001b[38;5;21;01mnumpy\u001b[39;00m \u001b[38;5;28;01mas\u001b[39;00m \u001b[38;5;21;01mnp\u001b[39;00m\n\u001b[0;32m      3\u001b[0m \u001b[38;5;28;01mimport\u001b[39;00m \u001b[38;5;21;01mmatplotlib\u001b[39;00m\u001b[38;5;21;01m.\u001b[39;00m\u001b[38;5;21;01mpyplot\u001b[39;00m \u001b[38;5;28;01mas\u001b[39;00m \u001b[38;5;21;01mplt\u001b[39;00m\n",
      "\u001b[1;31mModuleNotFoundError\u001b[0m: No module named 'pandas'"
     ]
    }
   ],
   "source": [
    "import pandas as pd \n",
    "import numpy as np\n",
    "import matplotlib.pyplot as plt\n",
    "import tensorflow as tf\n",
    "from tensorflow.keras.layers import BatchNormalization, MaxPooling2D, Conv2D, Dense, Dropout, Flatten\n",
    "from tensorflow.keras.models import Model, Sequential\n",
    "from tensorflow.keras.optimizers import SGD\n",
    "from sklearn.model_selection import train_test_split\n",
    "from sklearn.preprocessing import StandardScaler\n",
    "from sklearn.metrics import confusion_matrix, classification_report"
   ]
  },
  {
   "cell_type": "code",
   "execution_count": 3,
   "id": "c3476efd",
   "metadata": {},
   "outputs": [
    {
     "ename": "SyntaxError",
     "evalue": "(unicode error) 'unicodeescape' codec can't decode bytes in position 2-3: truncated \\UXXXXXXXX escape (1505138695.py, line 1)",
     "output_type": "error",
     "traceback": [
      "\u001b[1;36m  Cell \u001b[1;32mIn[3], line 1\u001b[1;36m\u001b[0m\n\u001b[1;33m    df = pd.read_csv(\"C:\\Users\\91986\\Downloads\\LP-IV-datasets\\ecg_autoencoder_dataset.csv\", header = None)\u001b[0m\n\u001b[1;37m                     ^\u001b[0m\n\u001b[1;31mSyntaxError\u001b[0m\u001b[1;31m:\u001b[0m (unicode error) 'unicodeescape' codec can't decode bytes in position 2-3: truncated \\UXXXXXXXX escape\n"
     ]
    }
   ],
   "source": [
    "df = pd.read_csv(\"C:\\Users\\91986\\Downloads\\LP-IV-datasets\\ecg_autoencoder_dataset.csv\", header = None)\n",
    "df"
   ]
  },
  {
   "cell_type": "code",
   "execution_count": 4,
   "id": "7ace7cc9",
   "metadata": {},
   "outputs": [
    {
     "ename": "NameError",
     "evalue": "name 'df' is not defined",
     "output_type": "error",
     "traceback": [
      "\u001b[1;31m---------------------------------------------------------------------------\u001b[0m",
      "\u001b[1;31mNameError\u001b[0m                                 Traceback (most recent call last)",
      "Cell \u001b[1;32mIn[4], line 1\u001b[0m\n\u001b[1;32m----> 1\u001b[0m X \u001b[38;5;241m=\u001b[39m \u001b[43mdf\u001b[49m\u001b[38;5;241m.\u001b[39mdrop([\u001b[38;5;241m140\u001b[39m], axis \u001b[38;5;241m=\u001b[39m \u001b[38;5;241m1\u001b[39m)\n\u001b[0;32m      2\u001b[0m y \u001b[38;5;241m=\u001b[39m df[\u001b[38;5;241m140\u001b[39m]\n",
      "\u001b[1;31mNameError\u001b[0m: name 'df' is not defined"
     ]
    }
   ],
   "source": [
    "X = df.drop([140], axis = 1)\n",
    "y = df[140]"
   ]
  },
  {
   "cell_type": "code",
   "execution_count": 5,
   "id": "bc8c6e3b",
   "metadata": {},
   "outputs": [
    {
     "ename": "NameError",
     "evalue": "name 'train_test_split' is not defined",
     "output_type": "error",
     "traceback": [
      "\u001b[1;31m---------------------------------------------------------------------------\u001b[0m",
      "\u001b[1;31mNameError\u001b[0m                                 Traceback (most recent call last)",
      "Cell \u001b[1;32mIn[5], line 1\u001b[0m\n\u001b[1;32m----> 1\u001b[0m X_train, X_test, y_train, y_test \u001b[38;5;241m=\u001b[39m \u001b[43mtrain_test_split\u001b[49m(X, y, test_size\u001b[38;5;241m=\u001b[39m\u001b[38;5;241m0.3\u001b[39m, random_state\u001b[38;5;241m=\u001b[39m\u001b[38;5;241m42\u001b[39m)\n",
      "\u001b[1;31mNameError\u001b[0m: name 'train_test_split' is not defined"
     ]
    }
   ],
   "source": [
    "X_train, X_test, y_train, y_test = train_test_split(X, y, test_size=0.3, random_state=42)"
   ]
  },
  {
   "cell_type": "code",
   "execution_count": 6,
   "id": "592b78e5",
   "metadata": {},
   "outputs": [
    {
     "ename": "NameError",
     "evalue": "name 'StandardScaler' is not defined",
     "output_type": "error",
     "traceback": [
      "\u001b[1;31m---------------------------------------------------------------------------\u001b[0m",
      "\u001b[1;31mNameError\u001b[0m                                 Traceback (most recent call last)",
      "Cell \u001b[1;32mIn[6], line 1\u001b[0m\n\u001b[1;32m----> 1\u001b[0m scaler \u001b[38;5;241m=\u001b[39m \u001b[43mStandardScaler\u001b[49m()\n\u001b[0;32m      2\u001b[0m X_train \u001b[38;5;241m=\u001b[39m  scaler\u001b[38;5;241m.\u001b[39mfit_transform(X_train)\n\u001b[0;32m      3\u001b[0m X_test \u001b[38;5;241m=\u001b[39m scaler\u001b[38;5;241m.\u001b[39mtransform(X_test)\n",
      "\u001b[1;31mNameError\u001b[0m: name 'StandardScaler' is not defined"
     ]
    }
   ],
   "source": [
    "scaler = StandardScaler()\n",
    "X_train =  scaler.fit_transform(X_train)\n",
    "X_test = scaler.transform(X_test)"
   ]
  },
  {
   "cell_type": "code",
   "execution_count": 6,
   "id": "6a22a664",
   "metadata": {},
   "outputs": [],
   "source": [
    "encoder = Sequential([Dense(64, activation = 'relu', input_shape = (X_train.shape[1],))])\n",
    "decoder = Sequential([Dense(X_train.shape[1], activation = 'sigmoid')])"
   ]
  },
  {
   "cell_type": "code",
   "execution_count": 7,
   "id": "4125f230",
   "metadata": {},
   "outputs": [],
   "source": [
    "autoencoder = Sequential([encoder, decoder])"
   ]
  },
  {
   "cell_type": "code",
   "execution_count": 8,
   "id": "b8063605",
   "metadata": {},
   "outputs": [],
   "source": [
    "autoencoder.compile(optimizer = 'adam', loss = 'mean_squared_error', metrics = ['accuracy'])"
   ]
  },
  {
   "cell_type": "code",
   "execution_count": 9,
   "id": "cd106b56",
   "metadata": {},
   "outputs": [
    {
     "name": "stdout",
     "output_type": "stream",
     "text": [
      "Epoch 1/100\n",
      "55/55 [==============================] - 0s 3ms/step - loss: 0.9916 - accuracy: 0.0395 - val_loss: 0.9918 - val_accuracy: 0.0707\n",
      "Epoch 2/100\n",
      "55/55 [==============================] - 0s 2ms/step - loss: 0.9835 - accuracy: 0.1026 - val_loss: 0.9889 - val_accuracy: 0.1340\n",
      "Epoch 3/100\n",
      "55/55 [==============================] - 0s 2ms/step - loss: 0.9816 - accuracy: 0.1495 - val_loss: 0.9878 - val_accuracy: 0.1720\n",
      "Epoch 4/100\n",
      "55/55 [==============================] - 0s 2ms/step - loss: 0.9807 - accuracy: 0.1687 - val_loss: 0.9873 - val_accuracy: 0.1853\n",
      "Epoch 5/100\n",
      "55/55 [==============================] - 0s 2ms/step - loss: 0.9803 - accuracy: 0.1870 - val_loss: 0.9869 - val_accuracy: 0.2033\n",
      "Epoch 6/100\n",
      "55/55 [==============================] - 0s 2ms/step - loss: 0.9799 - accuracy: 0.1981 - val_loss: 0.9866 - val_accuracy: 0.1987\n",
      "Epoch 7/100\n",
      "55/55 [==============================] - 0s 2ms/step - loss: 0.9797 - accuracy: 0.2021 - val_loss: 0.9865 - val_accuracy: 0.2080\n",
      "Epoch 8/100\n",
      "55/55 [==============================] - 0s 2ms/step - loss: 0.9795 - accuracy: 0.2078 - val_loss: 0.9863 - val_accuracy: 0.2127\n",
      "Epoch 9/100\n",
      "55/55 [==============================] - 0s 2ms/step - loss: 0.9794 - accuracy: 0.2244 - val_loss: 0.9862 - val_accuracy: 0.2287\n",
      "Epoch 10/100\n",
      "55/55 [==============================] - 0s 2ms/step - loss: 0.9793 - accuracy: 0.2270 - val_loss: 0.9861 - val_accuracy: 0.2293\n",
      "Epoch 11/100\n",
      "55/55 [==============================] - 0s 2ms/step - loss: 0.9792 - accuracy: 0.2318 - val_loss: 0.9860 - val_accuracy: 0.2393\n",
      "Epoch 12/100\n",
      "55/55 [==============================] - 0s 2ms/step - loss: 0.9792 - accuracy: 0.2270 - val_loss: 0.9860 - val_accuracy: 0.2400\n",
      "Epoch 13/100\n",
      "55/55 [==============================] - 0s 2ms/step - loss: 0.9791 - accuracy: 0.2433 - val_loss: 0.9859 - val_accuracy: 0.2480\n",
      "Epoch 14/100\n",
      "55/55 [==============================] - 0s 2ms/step - loss: 0.9790 - accuracy: 0.2473 - val_loss: 0.9859 - val_accuracy: 0.2473\n",
      "Epoch 15/100\n",
      "55/55 [==============================] - 0s 2ms/step - loss: 0.9790 - accuracy: 0.2527 - val_loss: 0.9858 - val_accuracy: 0.2433\n",
      "Epoch 16/100\n",
      "55/55 [==============================] - 0s 2ms/step - loss: 0.9789 - accuracy: 0.2533 - val_loss: 0.9858 - val_accuracy: 0.2533\n",
      "Epoch 17/100\n",
      "55/55 [==============================] - 0s 2ms/step - loss: 0.9789 - accuracy: 0.2561 - val_loss: 0.9858 - val_accuracy: 0.2527\n",
      "Epoch 18/100\n",
      "55/55 [==============================] - 0s 2ms/step - loss: 0.9789 - accuracy: 0.2576 - val_loss: 0.9857 - val_accuracy: 0.2560\n",
      "Epoch 19/100\n",
      "55/55 [==============================] - 0s 2ms/step - loss: 0.9788 - accuracy: 0.2642 - val_loss: 0.9857 - val_accuracy: 0.2533\n",
      "Epoch 20/100\n",
      "55/55 [==============================] - 0s 2ms/step - loss: 0.9788 - accuracy: 0.2693 - val_loss: 0.9857 - val_accuracy: 0.2480\n",
      "Epoch 21/100\n",
      "55/55 [==============================] - 0s 2ms/step - loss: 0.9788 - accuracy: 0.2742 - val_loss: 0.9857 - val_accuracy: 0.2713\n",
      "Epoch 22/100\n",
      "55/55 [==============================] - 0s 2ms/step - loss: 0.9788 - accuracy: 0.2739 - val_loss: 0.9857 - val_accuracy: 0.2667\n",
      "Epoch 23/100\n",
      "55/55 [==============================] - 0s 2ms/step - loss: 0.9787 - accuracy: 0.2739 - val_loss: 0.9857 - val_accuracy: 0.2687\n",
      "Epoch 24/100\n",
      "55/55 [==============================] - ETA: 0s - loss: 0.9657 - accuracy: 0.27 - 0s 2ms/step - loss: 0.9787 - accuracy: 0.2710 - val_loss: 0.9856 - val_accuracy: 0.2720\n",
      "Epoch 25/100\n",
      "55/55 [==============================] - 0s 2ms/step - loss: 0.9787 - accuracy: 0.2816 - val_loss: 0.9856 - val_accuracy: 0.2727\n",
      "Epoch 26/100\n",
      "55/55 [==============================] - 0s 2ms/step - loss: 0.9787 - accuracy: 0.2867 - val_loss: 0.9856 - val_accuracy: 0.2660\n",
      "Epoch 27/100\n",
      "55/55 [==============================] - 0s 2ms/step - loss: 0.9786 - accuracy: 0.2847 - val_loss: 0.9856 - val_accuracy: 0.2667\n",
      "Epoch 28/100\n",
      "55/55 [==============================] - 0s 2ms/step - loss: 0.9786 - accuracy: 0.2824 - val_loss: 0.9856 - val_accuracy: 0.2660\n",
      "Epoch 29/100\n",
      "55/55 [==============================] - 0s 2ms/step - loss: 0.9786 - accuracy: 0.2842 - val_loss: 0.9856 - val_accuracy: 0.2707\n",
      "Epoch 30/100\n",
      "55/55 [==============================] - 0s 2ms/step - loss: 0.9786 - accuracy: 0.2907 - val_loss: 0.9856 - val_accuracy: 0.2667\n",
      "Epoch 31/100\n",
      "55/55 [==============================] - 0s 2ms/step - loss: 0.9786 - accuracy: 0.2942 - val_loss: 0.9855 - val_accuracy: 0.2800\n",
      "Epoch 32/100\n",
      "55/55 [==============================] - 0s 2ms/step - loss: 0.9786 - accuracy: 0.2933 - val_loss: 0.9855 - val_accuracy: 0.2680\n",
      "Epoch 33/100\n",
      "55/55 [==============================] - 0s 3ms/step - loss: 0.9785 - accuracy: 0.3025 - val_loss: 0.9855 - val_accuracy: 0.2700\n",
      "Epoch 34/100\n",
      "55/55 [==============================] - 0s 2ms/step - loss: 0.9785 - accuracy: 0.3053 - val_loss: 0.9855 - val_accuracy: 0.2767\n",
      "Epoch 35/100\n",
      "55/55 [==============================] - 0s 2ms/step - loss: 0.9785 - accuracy: 0.3005 - val_loss: 0.9855 - val_accuracy: 0.2740\n",
      "Epoch 36/100\n",
      "55/55 [==============================] - 0s 2ms/step - loss: 0.9785 - accuracy: 0.3025 - val_loss: 0.9855 - val_accuracy: 0.2667\n",
      "Epoch 37/100\n",
      "55/55 [==============================] - 0s 2ms/step - loss: 0.9785 - accuracy: 0.3007 - val_loss: 0.9855 - val_accuracy: 0.2840\n",
      "Epoch 38/100\n",
      "55/55 [==============================] - 0s 2ms/step - loss: 0.9785 - accuracy: 0.3093 - val_loss: 0.9854 - val_accuracy: 0.2780\n",
      "Epoch 39/100\n",
      "55/55 [==============================] - 0s 2ms/step - loss: 0.9784 - accuracy: 0.3027 - val_loss: 0.9854 - val_accuracy: 0.2767\n",
      "Epoch 40/100\n",
      "55/55 [==============================] - 0s 2ms/step - loss: 0.9784 - accuracy: 0.3119 - val_loss: 0.9854 - val_accuracy: 0.2887\n",
      "Epoch 41/100\n",
      "55/55 [==============================] - 0s 2ms/step - loss: 0.9784 - accuracy: 0.3222 - val_loss: 0.9854 - val_accuracy: 0.2947\n",
      "Epoch 42/100\n",
      "55/55 [==============================] - 0s 2ms/step - loss: 0.9784 - accuracy: 0.3202 - val_loss: 0.9854 - val_accuracy: 0.2967\n",
      "Epoch 43/100\n",
      "55/55 [==============================] - 0s 2ms/step - loss: 0.9784 - accuracy: 0.3193 - val_loss: 0.9854 - val_accuracy: 0.2933\n",
      "Epoch 44/100\n",
      "55/55 [==============================] - 0s 2ms/step - loss: 0.9784 - accuracy: 0.3199 - val_loss: 0.9853 - val_accuracy: 0.3013\n",
      "Epoch 45/100\n",
      "55/55 [==============================] - 0s 2ms/step - loss: 0.9784 - accuracy: 0.3208 - val_loss: 0.9854 - val_accuracy: 0.2927\n",
      "Epoch 46/100\n",
      "55/55 [==============================] - 0s 3ms/step - loss: 0.9784 - accuracy: 0.3248 - val_loss: 0.9853 - val_accuracy: 0.2987\n",
      "Epoch 47/100\n",
      "55/55 [==============================] - 0s 2ms/step - loss: 0.9784 - accuracy: 0.3279 - val_loss: 0.9853 - val_accuracy: 0.2960\n",
      "Epoch 48/100\n",
      "55/55 [==============================] - 0s 2ms/step - loss: 0.9784 - accuracy: 0.3230 - val_loss: 0.9853 - val_accuracy: 0.2840\n",
      "Epoch 49/100\n",
      "55/55 [==============================] - 0s 2ms/step - loss: 0.9783 - accuracy: 0.3308 - val_loss: 0.9853 - val_accuracy: 0.2920\n",
      "Epoch 50/100\n",
      "55/55 [==============================] - 0s 2ms/step - loss: 0.9783 - accuracy: 0.3279 - val_loss: 0.9853 - val_accuracy: 0.3100\n",
      "Epoch 51/100\n",
      "55/55 [==============================] - 0s 2ms/step - loss: 0.9783 - accuracy: 0.3339 - val_loss: 0.9853 - val_accuracy: 0.2960\n",
      "Epoch 52/100\n",
      "55/55 [==============================] - 0s 2ms/step - loss: 0.9783 - accuracy: 0.3325 - val_loss: 0.9853 - val_accuracy: 0.3067\n",
      "Epoch 53/100\n",
      "55/55 [==============================] - 0s 2ms/step - loss: 0.9783 - accuracy: 0.3368 - val_loss: 0.9853 - val_accuracy: 0.2940\n",
      "Epoch 54/100\n",
      "55/55 [==============================] - 0s 2ms/step - loss: 0.9783 - accuracy: 0.3290 - val_loss: 0.9853 - val_accuracy: 0.3007\n",
      "Epoch 55/100\n",
      "55/55 [==============================] - 0s 2ms/step - loss: 0.9783 - accuracy: 0.3296 - val_loss: 0.9853 - val_accuracy: 0.2993\n",
      "Epoch 56/100\n",
      "55/55 [==============================] - 0s 2ms/step - loss: 0.9783 - accuracy: 0.3379 - val_loss: 0.9853 - val_accuracy: 0.3020\n",
      "Epoch 57/100\n",
      "55/55 [==============================] - 0s 2ms/step - loss: 0.9783 - accuracy: 0.3342 - val_loss: 0.9853 - val_accuracy: 0.2967\n",
      "Epoch 58/100\n"
     ]
    },
    {
     "name": "stdout",
     "output_type": "stream",
     "text": [
      "55/55 [==============================] - 0s 2ms/step - loss: 0.9783 - accuracy: 0.3365 - val_loss: 0.9853 - val_accuracy: 0.2987\n",
      "Epoch 59/100\n",
      "55/55 [==============================] - 0s 2ms/step - loss: 0.9783 - accuracy: 0.3362 - val_loss: 0.9853 - val_accuracy: 0.2987\n",
      "Epoch 60/100\n",
      "55/55 [==============================] - 0s 2ms/step - loss: 0.9783 - accuracy: 0.3376 - val_loss: 0.9853 - val_accuracy: 0.3120\n",
      "Epoch 61/100\n",
      "55/55 [==============================] - 0s 2ms/step - loss: 0.9783 - accuracy: 0.3422 - val_loss: 0.9853 - val_accuracy: 0.3000\n",
      "Epoch 62/100\n",
      "55/55 [==============================] - 0s 2ms/step - loss: 0.9782 - accuracy: 0.3373 - val_loss: 0.9853 - val_accuracy: 0.2987\n",
      "Epoch 63/100\n",
      "55/55 [==============================] - 0s 2ms/step - loss: 0.9782 - accuracy: 0.3453 - val_loss: 0.9852 - val_accuracy: 0.3113\n",
      "Epoch 64/100\n",
      "55/55 [==============================] - 0s 2ms/step - loss: 0.9782 - accuracy: 0.3413 - val_loss: 0.9852 - val_accuracy: 0.3007\n",
      "Epoch 65/100\n",
      "55/55 [==============================] - 0s 2ms/step - loss: 0.9782 - accuracy: 0.3379 - val_loss: 0.9852 - val_accuracy: 0.3073\n",
      "Epoch 66/100\n",
      "55/55 [==============================] - 0s 2ms/step - loss: 0.9782 - accuracy: 0.3459 - val_loss: 0.9852 - val_accuracy: 0.2967\n",
      "Epoch 67/100\n",
      "55/55 [==============================] - 0s 3ms/step - loss: 0.9782 - accuracy: 0.3428 - val_loss: 0.9852 - val_accuracy: 0.2953\n",
      "Epoch 68/100\n",
      "55/55 [==============================] - 0s 3ms/step - loss: 0.9782 - accuracy: 0.3465 - val_loss: 0.9852 - val_accuracy: 0.3000\n",
      "Epoch 69/100\n",
      "55/55 [==============================] - 0s 2ms/step - loss: 0.9782 - accuracy: 0.3451 - val_loss: 0.9852 - val_accuracy: 0.3060\n",
      "Epoch 70/100\n",
      "55/55 [==============================] - 0s 2ms/step - loss: 0.9782 - accuracy: 0.3479 - val_loss: 0.9852 - val_accuracy: 0.3000\n",
      "Epoch 71/100\n",
      "55/55 [==============================] - 0s 2ms/step - loss: 0.9782 - accuracy: 0.3428 - val_loss: 0.9852 - val_accuracy: 0.3040\n",
      "Epoch 72/100\n",
      "55/55 [==============================] - 0s 2ms/step - loss: 0.9782 - accuracy: 0.3579 - val_loss: 0.9852 - val_accuracy: 0.3093\n",
      "Epoch 73/100\n",
      "55/55 [==============================] - 0s 2ms/step - loss: 0.9782 - accuracy: 0.3533 - val_loss: 0.9852 - val_accuracy: 0.3047\n",
      "Epoch 74/100\n",
      "55/55 [==============================] - 0s 2ms/step - loss: 0.9782 - accuracy: 0.3573 - val_loss: 0.9852 - val_accuracy: 0.3000\n",
      "Epoch 75/100\n",
      "55/55 [==============================] - 0s 2ms/step - loss: 0.9782 - accuracy: 0.3568 - val_loss: 0.9852 - val_accuracy: 0.3040\n",
      "Epoch 76/100\n",
      "55/55 [==============================] - 0s 2ms/step - loss: 0.9781 - accuracy: 0.3602 - val_loss: 0.9852 - val_accuracy: 0.3047\n",
      "Epoch 77/100\n",
      "55/55 [==============================] - 0s 2ms/step - loss: 0.9781 - accuracy: 0.3611 - val_loss: 0.9852 - val_accuracy: 0.3040\n",
      "Epoch 78/100\n",
      "55/55 [==============================] - 0s 2ms/step - loss: 0.9781 - accuracy: 0.3496 - val_loss: 0.9852 - val_accuracy: 0.3180\n",
      "Epoch 79/100\n",
      "55/55 [==============================] - 0s 2ms/step - loss: 0.9781 - accuracy: 0.3582 - val_loss: 0.9852 - val_accuracy: 0.3107\n",
      "Epoch 80/100\n",
      "55/55 [==============================] - 0s 2ms/step - loss: 0.9781 - accuracy: 0.3659 - val_loss: 0.9852 - val_accuracy: 0.3087\n",
      "Epoch 81/100\n",
      "55/55 [==============================] - 0s 2ms/step - loss: 0.9781 - accuracy: 0.3619 - val_loss: 0.9852 - val_accuracy: 0.3020\n",
      "Epoch 82/100\n",
      "55/55 [==============================] - 0s 2ms/step - loss: 0.9781 - accuracy: 0.3642 - val_loss: 0.9852 - val_accuracy: 0.3033\n",
      "Epoch 83/100\n",
      "55/55 [==============================] - 0s 2ms/step - loss: 0.9781 - accuracy: 0.3736 - val_loss: 0.9852 - val_accuracy: 0.3193\n",
      "Epoch 84/100\n",
      "55/55 [==============================] - 0s 2ms/step - loss: 0.9781 - accuracy: 0.3651 - val_loss: 0.9852 - val_accuracy: 0.3107\n",
      "Epoch 85/100\n",
      "55/55 [==============================] - 0s 2ms/step - loss: 0.9781 - accuracy: 0.3636 - val_loss: 0.9852 - val_accuracy: 0.3047\n",
      "Epoch 86/100\n",
      "55/55 [==============================] - 0s 3ms/step - loss: 0.9781 - accuracy: 0.3694 - val_loss: 0.9851 - val_accuracy: 0.3093\n",
      "Epoch 87/100\n",
      "55/55 [==============================] - 0s 3ms/step - loss: 0.9781 - accuracy: 0.3679 - val_loss: 0.9851 - val_accuracy: 0.3133\n",
      "Epoch 88/100\n",
      "55/55 [==============================] - 0s 2ms/step - loss: 0.9781 - accuracy: 0.3708 - val_loss: 0.9851 - val_accuracy: 0.3007\n",
      "Epoch 89/100\n",
      "55/55 [==============================] - 0s 2ms/step - loss: 0.9781 - accuracy: 0.3725 - val_loss: 0.9851 - val_accuracy: 0.3073\n",
      "Epoch 90/100\n",
      "55/55 [==============================] - 0s 2ms/step - loss: 0.9781 - accuracy: 0.3722 - val_loss: 0.9851 - val_accuracy: 0.3147\n",
      "Epoch 91/100\n",
      "55/55 [==============================] - 0s 2ms/step - loss: 0.9781 - accuracy: 0.3716 - val_loss: 0.9851 - val_accuracy: 0.3040\n",
      "Epoch 92/100\n",
      "55/55 [==============================] - 0s 2ms/step - loss: 0.9781 - accuracy: 0.3742 - val_loss: 0.9851 - val_accuracy: 0.3080\n",
      "Epoch 93/100\n",
      "55/55 [==============================] - 0s 2ms/step - loss: 0.9781 - accuracy: 0.3828 - val_loss: 0.9851 - val_accuracy: 0.3147\n",
      "Epoch 94/100\n",
      "55/55 [==============================] - 0s 2ms/step - loss: 0.9780 - accuracy: 0.3736 - val_loss: 0.9851 - val_accuracy: 0.3073\n",
      "Epoch 95/100\n",
      "55/55 [==============================] - 0s 2ms/step - loss: 0.9780 - accuracy: 0.3771 - val_loss: 0.9851 - val_accuracy: 0.3147\n",
      "Epoch 96/100\n",
      "55/55 [==============================] - 0s 2ms/step - loss: 0.9780 - accuracy: 0.3754 - val_loss: 0.9851 - val_accuracy: 0.3160\n",
      "Epoch 97/100\n",
      "55/55 [==============================] - 0s 2ms/step - loss: 0.9780 - accuracy: 0.3796 - val_loss: 0.9851 - val_accuracy: 0.3100\n",
      "Epoch 98/100\n",
      "55/55 [==============================] - 0s 2ms/step - loss: 0.9780 - accuracy: 0.3776 - val_loss: 0.9851 - val_accuracy: 0.3167\n",
      "Epoch 99/100\n",
      "55/55 [==============================] - 0s 2ms/step - loss: 0.9780 - accuracy: 0.3848 - val_loss: 0.9851 - val_accuracy: 0.3120\n",
      "Epoch 100/100\n",
      "55/55 [==============================] - 0s 2ms/step - loss: 0.9780 - accuracy: 0.3805 - val_loss: 0.9851 - val_accuracy: 0.3187\n"
     ]
    }
   ],
   "source": [
    "r = autoencoder.fit(X_train, X_train, epochs = 100, batch_size = 64, validation_data= (X_test, X_test))"
   ]
  },
  {
   "cell_type": "code",
   "execution_count": 10,
   "id": "c7d8efaf",
   "metadata": {},
   "outputs": [
    {
     "data": {
      "text/plain": [
       "dict_keys(['loss', 'accuracy', 'val_loss', 'val_accuracy'])"
      ]
     },
     "execution_count": 10,
     "metadata": {},
     "output_type": "execute_result"
    }
   ],
   "source": [
    "r.history.keys()"
   ]
  },
  {
   "cell_type": "code",
   "execution_count": 13,
   "id": "91a182b3",
   "metadata": {},
   "outputs": [
    {
     "data": {
      "text/plain": [
       "Text(0, 0.5, 'loss')"
      ]
     },
     "execution_count": 13,
     "metadata": {},
     "output_type": "execute_result"
    },
    {
     "data": {
      "image/png": "[encoded data removed]",
      "text/plain": [
       "<Figure size 432x288 with 1 Axes>"
      ]
     },
     "metadata": {
      "needs_background": "light"
     },
     "output_type": "display_data"
    }
   ],
   "source": [
    "plt.plot(r.history['loss'], label = 'loss', color = 'blue')\n",
    "plt.plot(r.history['val_loss'], label = 'val_loss', color = 'green')\n",
    "plt.legend\n",
    "plt.xlabel('epoch')\n",
    "plt.ylabel('loss')"
   ]
  },
  {
   "cell_type": "code",
   "execution_count": 14,
   "id": "63654b4f",
   "metadata": {},
   "outputs": [
    {
     "data": {
      "text/plain": [
       "<function matplotlib.pyplot.legend(*args, **kwargs)>"
      ]
     },
     "execution_count": 14,
     "metadata": {},
     "output_type": "execute_result"
    },
    {
     "data": {
      "image/png": "[encoded data removed]",
      "text/plain": [
       "<Figure size 432x288 with 1 Axes>"
      ]
     },
     "metadata": {
      "needs_background": "light"
     },
     "output_type": "display_data"
    }
   ],
   "source": [
    "plt.plot(r.history['accuracy'], label = 'acc', color = 'red')\n",
    "plt.plot(r.history['val_accuracy'], label = 'val_acc', color = 'green')\n",
    "plt.legend"
   ]
  },
  {
   "cell_type": "code",
   "execution_count": 15,
   "id": "6f24eeaf",
   "metadata": {},
   "outputs": [
    {
     "name": "stdout",
     "output_type": "stream",
     "text": [
      "47/47 [==============================] - 0s 931us/step - loss: 0.9851 - accuracy: 0.3187\n",
      "Test Loss: [0.9850784540176392, 0.3186666667461395]\n"
     ]
    }
   ],
   "source": [
    "loss = autoencoder.evaluate(X_test, X_test)\n",
    "print(f'Test Loss: {loss}')"
   ]
  },
  {
   "cell_type": "code",
   "execution_count": 19,
   "id": "7bf52a7b",
   "metadata": {},
   "outputs": [
    {
     "name": "stdout",
     "output_type": "stream",
     "text": [
      "Confusion Matrix:\n",
      " [[581  41]\n",
      " [844  34]]\n",
      "Classification report:\n",
      "               precision    recall  f1-score   support\n",
      "\n",
      "           0       0.41      0.93      0.57       622\n",
      "           1       0.45      0.04      0.07       878\n",
      "\n",
      "    accuracy                           0.41      1500\n",
      "   macro avg       0.43      0.49      0.32      1500\n",
      "weighted avg       0.43      0.41      0.28      1500\n",
      "\n"
     ]
    }
   ],
   "source": [
    "decoded_data = autoencoder.predict(X_test)\n",
    "mse = np.mean(np.power(X_test - decoded_data, 2), axis = 1)\n",
    "threshold = np.percentile(mse, 95)\n",
    "\n",
    "outliers = mse> threshold\n",
    "print(\"Confusion Matrix:\\n\", confusion_matrix(y_test, outliers))\n",
    "print(\"Classification report:\\n\", classification_report(y_test, outliers))"
   ]
  },
  {
   "cell_type": "code",
   "execution_count": 20,
   "id": "45c09e34",
   "metadata": {},
   "outputs": [],
   "source": [
    "num_outliers = np.sum(outliers)\n",
    "num_anomalies = np.sum(y_test[outliers] == 1)"
   ]
  },
  {
   "cell_type": "code",
   "execution_count": 23,
   "id": "d7b387e2",
   "metadata": {},
   "outputs": [
    {
     "name": "stdout",
     "output_type": "stream",
     "text": [
      "Number of outliers: 75\n",
      "Number of anomalies: 34\n"
     ]
    }
   ],
   "source": [
    "print(f'Number of outliers: {num_outliers}')\n",
    "print(f'Number of anomalies: {num_anomalies}')"
   ]
  },
  {
   "cell_type": "code",
   "execution_count": null,
   "id": "918a56f1",
   "metadata": {},
   "outputs": [],
   "source": []
  },
  {
   "cell_type": "code",
   "execution_count": null,
   "id": "1ef83809",
   "metadata": {},
   "outputs": [],
   "source": []
  },
  {
   "cell_type": "code",
   "execution_count": null,
   "id": "1d100b00",
   "metadata": {},
   "outputs": [],
   "source": []
  },
  {
   "cell_type": "code",
   "execution_count": null,
   "id": "d3ef0c54",
   "metadata": {},
   "outputs": [],
   "source": []
  },
  {
   "cell_type": "code",
   "execution_count": null,
   "id": "743cb192",
   "metadata": {},
   "outputs": [],
   "source": []
  },
  {
   "cell_type": "code",
   "execution_count": null,
   "id": "29a80d88",
   "metadata": {},
   "outputs": [],
   "source": []
  },
  {
   "cell_type": "code",
   "execution_count": null,
   "id": "2a275fc0",
   "metadata": {},
   "outputs": [],
   "source": []
  },
  {
   "cell_type": "code",
   "execution_count": null,
   "id": "39edd974",
   "metadata": {},
   "outputs": [],
   "source": []
  },
  {
   "cell_type": "code",
   "execution_count": null,
   "id": "22b3a4e7",
   "metadata": {},
   "outputs": [],
   "source": []
  },
  {
   "cell_type": "code",
   "execution_count": null,
   "id": "281528bd",
   "metadata": {},
   "outputs": [],
   "source": []
  },
  {
   "cell_type": "code",
   "execution_count": null,
   "id": "e0880dd4",
   "metadata": {},
   "outputs": [],
   "source": []
  }
 ],
 "metadata": {
  "kernelspec": {
   "display_name": "Python 3",
   "language": "python",
   "name": "python3"
  },
  "language_info": {
   "codemirror_mode": {
    "name": "ipython",
    "version": 3
   },
   "file_extension": ".py",
   "mimetype": "text/x-python",
   "name": "python",
   "nbconvert_exporter": "python",
   "pygments_lexer": "ipython3",
   "version": "3.12.7"
  }
 },
 "nbformat": 4,
 "nbformat_minor": 5
}
